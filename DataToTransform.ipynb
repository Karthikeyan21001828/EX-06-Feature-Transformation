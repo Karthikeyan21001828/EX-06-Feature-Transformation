{
 "cells": [
  {
   "cell_type": "code",
   "execution_count": 1,
   "id": "d25ad168",
   "metadata": {},
   "outputs": [],
   "source": [
    "import pandas as pd  \n",
    "import numpy as np  \n",
    "import matplotlib.pyplot as plt  \n",
    "import seaborn as sns  \n",
    "import statsmodels.api as sm  \n",
    "import scipy.stats as stats  "
   ]
  },
  {
   "cell_type": "code",
   "execution_count": 2,
   "id": "55c20615",
   "metadata": {},
   "outputs": [],
   "source": [
    "df=pd.read_csv(\"Data_to_Transform.csv\")"
   ]
  },
  {
   "cell_type": "code",
   "execution_count": 3,
   "id": "a6a7623d",
   "metadata": {},
   "outputs": [
    {
     "data": {
      "text/html": [
       "<div>\n",
       "<style scoped>\n",
       "    .dataframe tbody tr th:only-of-type {\n",
       "        vertical-align: middle;\n",
       "    }\n",
       "\n",
       "    .dataframe tbody tr th {\n",
       "        vertical-align: top;\n",
       "    }\n",
       "\n",
       "    .dataframe thead th {\n",
       "        text-align: right;\n",
       "    }\n",
       "</style>\n",
       "<table border=\"1\" class=\"dataframe\">\n",
       "  <thead>\n",
       "    <tr style=\"text-align: right;\">\n",
       "      <th></th>\n",
       "      <th>ModeratePositiveSkew</th>\n",
       "      <th>HighlyPositiveSkew</th>\n",
       "      <th>ModerateNegativeSkew</th>\n",
       "      <th>HighlyNegativeSkew</th>\n",
       "    </tr>\n",
       "  </thead>\n",
       "  <tbody>\n",
       "    <tr>\n",
       "      <th>0</th>\n",
       "      <td>0.899990</td>\n",
       "      <td>2.895074</td>\n",
       "      <td>11.180748</td>\n",
       "      <td>9.027485</td>\n",
       "    </tr>\n",
       "    <tr>\n",
       "      <th>1</th>\n",
       "      <td>1.113554</td>\n",
       "      <td>2.962385</td>\n",
       "      <td>10.842938</td>\n",
       "      <td>9.009762</td>\n",
       "    </tr>\n",
       "    <tr>\n",
       "      <th>2</th>\n",
       "      <td>1.156830</td>\n",
       "      <td>2.966378</td>\n",
       "      <td>10.817934</td>\n",
       "      <td>9.006134</td>\n",
       "    </tr>\n",
       "    <tr>\n",
       "      <th>3</th>\n",
       "      <td>1.264131</td>\n",
       "      <td>3.000324</td>\n",
       "      <td>10.764570</td>\n",
       "      <td>9.000125</td>\n",
       "    </tr>\n",
       "    <tr>\n",
       "      <th>4</th>\n",
       "      <td>1.323914</td>\n",
       "      <td>3.012109</td>\n",
       "      <td>10.753117</td>\n",
       "      <td>8.981296</td>\n",
       "    </tr>\n",
       "    <tr>\n",
       "      <th>...</th>\n",
       "      <td>...</td>\n",
       "      <td>...</td>\n",
       "      <td>...</td>\n",
       "      <td>...</td>\n",
       "    </tr>\n",
       "    <tr>\n",
       "      <th>9995</th>\n",
       "      <td>14.749050</td>\n",
       "      <td>16.289513</td>\n",
       "      <td>-2.980821</td>\n",
       "      <td>-3.254882</td>\n",
       "    </tr>\n",
       "    <tr>\n",
       "      <th>9996</th>\n",
       "      <td>14.854474</td>\n",
       "      <td>16.396252</td>\n",
       "      <td>-3.147526</td>\n",
       "      <td>-3.772332</td>\n",
       "    </tr>\n",
       "    <tr>\n",
       "      <th>9997</th>\n",
       "      <td>15.262103</td>\n",
       "      <td>17.102991</td>\n",
       "      <td>-3.517256</td>\n",
       "      <td>-4.717950</td>\n",
       "    </tr>\n",
       "    <tr>\n",
       "      <th>9998</th>\n",
       "      <td>15.269983</td>\n",
       "      <td>17.628467</td>\n",
       "      <td>-4.689833</td>\n",
       "      <td>-5.670496</td>\n",
       "    </tr>\n",
       "    <tr>\n",
       "      <th>9999</th>\n",
       "      <td>16.204517</td>\n",
       "      <td>18.052331</td>\n",
       "      <td>-6.335679</td>\n",
       "      <td>-7.036091</td>\n",
       "    </tr>\n",
       "  </tbody>\n",
       "</table>\n",
       "<p>10000 rows × 4 columns</p>\n",
       "</div>"
      ],
      "text/plain": [
       "      ModeratePositiveSkew  HighlyPositiveSkew  ModerateNegativeSkew  \\\n",
       "0                 0.899990            2.895074             11.180748   \n",
       "1                 1.113554            2.962385             10.842938   \n",
       "2                 1.156830            2.966378             10.817934   \n",
       "3                 1.264131            3.000324             10.764570   \n",
       "4                 1.323914            3.012109             10.753117   \n",
       "...                    ...                 ...                   ...   \n",
       "9995             14.749050           16.289513             -2.980821   \n",
       "9996             14.854474           16.396252             -3.147526   \n",
       "9997             15.262103           17.102991             -3.517256   \n",
       "9998             15.269983           17.628467             -4.689833   \n",
       "9999             16.204517           18.052331             -6.335679   \n",
       "\n",
       "      HighlyNegativeSkew  \n",
       "0               9.027485  \n",
       "1               9.009762  \n",
       "2               9.006134  \n",
       "3               9.000125  \n",
       "4               8.981296  \n",
       "...                  ...  \n",
       "9995           -3.254882  \n",
       "9996           -3.772332  \n",
       "9997           -4.717950  \n",
       "9998           -5.670496  \n",
       "9999           -7.036091  \n",
       "\n",
       "[10000 rows x 4 columns]"
      ]
     },
     "execution_count": 3,
     "metadata": {},
     "output_type": "execute_result"
    }
   ],
   "source": [
    "df"
   ]
  },
  {
   "cell_type": "code",
   "execution_count": 4,
   "id": "b6ee95d9",
   "metadata": {},
   "outputs": [],
   "source": [
    "df1=df.copy()"
   ]
  },
  {
   "cell_type": "code",
   "execution_count": 11,
   "id": "a90e8a75",
   "metadata": {},
   "outputs": [
    {
     "data": {
      "text/plain": [
       "0      -0.105371\n",
       "1       0.107557\n",
       "2       0.145684\n",
       "3       0.234385\n",
       "4       0.280593\n",
       "          ...   \n",
       "9995    2.691179\n",
       "9996    2.698301\n",
       "9997    2.725373\n",
       "9998    2.725889\n",
       "9999    2.785290\n",
       "Name: ModeratePositiveSkew_log, Length: 10000, dtype: float64"
      ]
     },
     "execution_count": 11,
     "metadata": {},
     "output_type": "execute_result"
    }
   ],
   "source": [
    "# log transformation\n",
    "df1[\"ModeratePositiveSkew_log\"] = np.log(df1.ModeratePositiveSkew)\n",
    "df1.ModeratePositiveSkew_log"
   ]
  },
  {
   "cell_type": "code",
   "execution_count": 12,
   "id": "7e745f5e",
   "metadata": {},
   "outputs": [
    {
     "data": {
      "text/plain": [
       "0       0.345414\n",
       "1       0.337566\n",
       "2       0.337112\n",
       "3       0.333297\n",
       "4       0.331993\n",
       "          ...   \n",
       "9995    0.061389\n",
       "9996    0.060990\n",
       "9997    0.058469\n",
       "9998    0.056726\n",
       "9999    0.055395\n",
       "Name: HighlyPositiveSkew_recip, Length: 10000, dtype: float64"
      ]
     },
     "execution_count": 12,
     "metadata": {},
     "output_type": "execute_result"
    }
   ],
   "source": [
    "# reciprocal transformation\n",
    "df1[\"HighlyPositiveSkew_recip\"] = 1/df.HighlyPositiveSkew\n",
    "df1.HighlyPositiveSkew_recip"
   ]
  },
  {
   "cell_type": "code",
   "execution_count": 7,
   "id": "f7ae33bb",
   "metadata": {},
   "outputs": [],
   "source": [
    "#square transformation\n",
    "df1[\"HighlyNegativeSkew_square\"]= df1.HighlyNegativeSkew**(1/1.2)"
   ]
  },
  {
   "cell_type": "code",
   "execution_count": 13,
   "id": "e0512411",
   "metadata": {},
   "outputs": [
    {
     "data": {
      "text/plain": [
       "0       6.256128\n",
       "1       6.245891\n",
       "2       6.243796\n",
       "3       6.240324\n",
       "4       6.229442\n",
       "          ...   \n",
       "9995         NaN\n",
       "9996         NaN\n",
       "9997         NaN\n",
       "9998         NaN\n",
       "9999         NaN\n",
       "Name: HighlyNegativeSkew_square, Length: 10000, dtype: float64"
      ]
     },
     "execution_count": 13,
     "metadata": {},
     "output_type": "execute_result"
    }
   ],
   "source": [
    "df1.HighlyNegativeSkew_square"
   ]
  },
  {
   "cell_type": "code",
   "execution_count": 14,
   "id": "9a493ffc",
   "metadata": {},
   "outputs": [
    {
     "data": {
      "text/plain": [
       "0       0.948678\n",
       "1       1.055251\n",
       "2       1.075560\n",
       "3       1.124336\n",
       "4       1.150615\n",
       "          ...   \n",
       "9995    3.840449\n",
       "9996    3.854150\n",
       "9997    3.906674\n",
       "9998    3.907683\n",
       "9999    4.025483\n",
       "Name: ModeratePositiveSkew_sqrt, Length: 10000, dtype: float64"
      ]
     },
     "execution_count": 14,
     "metadata": {},
     "output_type": "execute_result"
    }
   ],
   "source": [
    "# square root transformation\n",
    "df1['ModeratePositiveSkew_sqrt'] = np.sqrt(df.ModeratePositiveSkew)\n",
    "df1.ModeratePositiveSkew_sqrt"
   ]
  },
  {
   "cell_type": "code",
   "execution_count": 15,
   "id": "4d8263f7",
   "metadata": {},
   "outputs": [
    {
     "data": {
      "text/plain": [
       "0       0.812909\n",
       "1       0.825921\n",
       "2       0.826679\n",
       "3       0.833058\n",
       "4       0.835247\n",
       "          ...   \n",
       "9995    1.457701\n",
       "9996    1.459189\n",
       "9997    1.468681\n",
       "9998    1.475357\n",
       "9999    1.480525\n",
       "Name: HighlyPositiveSkew_boxcox, Length: 10000, dtype: float64"
      ]
     },
     "execution_count": 15,
     "metadata": {},
     "output_type": "execute_result"
    }
   ],
   "source": [
    "df1[\"HighlyPositiveSkew_boxcox\"], parameters=stats.boxcox(df1.HighlyPositiveSkew)\n",
    "df1.HighlyPositiveSkew_boxcox"
   ]
  },
  {
   "cell_type": "code",
   "execution_count": 16,
   "id": "9b4201f9",
   "metadata": {},
   "outputs": [
    {
     "data": {
      "text/plain": [
       "0       51.081487\n",
       "1       50.898041\n",
       "2       50.860530\n",
       "3       50.798432\n",
       "4       50.604084\n",
       "          ...    \n",
       "9995    -1.433326\n",
       "9996    -1.545673\n",
       "9997    -1.722267\n",
       "9998    -1.872430\n",
       "9999    -2.053503\n",
       "Name: HighlyNegativeSkew_yeojohnson, Length: 10000, dtype: float64"
      ]
     },
     "execution_count": 16,
     "metadata": {},
     "output_type": "execute_result"
    }
   ],
   "source": [
    "df1[\"HighlyNegativeSkew_yeojohnson\"], parameters=stats.yeojohnson(df1.HighlyNegativeSkew)\n",
    "df1.HighlyNegativeSkew_yeojohnson"
   ]
  },
  {
   "cell_type": "code",
   "execution_count": 18,
   "id": "f5560be3",
   "metadata": {},
   "outputs": [],
   "source": [
    "#QUANTILE TRANSFORMATION:  \n",
    "from sklearn.preprocessing import QuantileTransformer   \n",
    "qt=QuantileTransformer(output_distribution='normal') "
   ]
  },
  {
   "cell_type": "code",
   "execution_count": 21,
   "id": "82a0e8bc",
   "metadata": {
    "scrolled": true
   },
   "outputs": [
    {
     "name": "stderr",
     "output_type": "stream",
     "text": [
      "C:\\Users\\karth\\anaconda3\\lib\\site-packages\\statsmodels\\graphics\\gofplots.py:993: UserWarning: marker is redundantly defined by the 'marker' keyword argument and the fmt string \"bo\" (-> marker='o'). The keyword argument will take precedence.\n",
      "  ax.plot(x, y, fmt, **plot_style)\n"
     ]
    },
    {
     "data": {
      "image/png": "[encoded data removed]",
      "text/plain": [
       "<Figure size 432x288 with 1 Axes>"
      ]
     },
     "metadata": {
      "needs_background": "light"
     },
     "output_type": "display_data"
    },
    {
     "name": "stderr",
     "output_type": "stream",
     "text": [
      "C:\\Users\\karth\\anaconda3\\lib\\site-packages\\statsmodels\\graphics\\gofplots.py:993: UserWarning: marker is redundantly defined by the 'marker' keyword argument and the fmt string \"bo\" (-> marker='o'). The keyword argument will take precedence.\n",
      "  ax.plot(x, y, fmt, **plot_style)\n"
     ]
    },
    {
     "data": {
      "image/png": "[encoded data removed]",
      "text/plain": [
       "<Figure size 432x288 with 1 Axes>"
      ]
     },
     "metadata": {
      "needs_background": "light"
     },
     "output_type": "display_data"
    }
   ],
   "source": [
    "df[\"Moderate Negative Skew_1\"]=qt.fit_transform(df[[\"ModerateNegativeSkew\"]])  \n",
    "sm.qqplot(df['ModerateNegativeSkew'],line='45')  \n",
    "plt.show()\n",
    "sm.qqplot(df['Moderate Negative Skew_1'],line='45')  \n",
    "plt.show()  "
   ]
  },
  {
   "cell_type": "code",
   "execution_count": null,
   "id": "f491fa19",
   "metadata": {},
   "outputs": [],
   "source": []
  }
 ],
 "metadata": {
  "kernelspec": {
   "display_name": "Python 3 (ipykernel)",
   "language": "python",
   "name": "python3"
  },
  "language_info": {
   "codemirror_mode": {
    "name": "ipython",
    "version": 3
   },
   "file_extension": ".py",
   "mimetype": "text/x-python",
   "name": "python",
   "nbconvert_exporter": "python",
   "pygments_lexer": "ipython3",
   "version": "3.9.7"
  }
 },
 "nbformat": 4,
 "nbformat_minor": 5
}
